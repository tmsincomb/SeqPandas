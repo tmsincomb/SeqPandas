{
 "cells": [
  {
   "cell_type": "markdown",
   "metadata": {},
   "source": [
    "# SeqPandas Pileup Tutorial\n",
    "\n",
    "This tutorial demonstrates how SeqPandas can create pileup representations from BAM/SAM files that replicate the output of the old deprecated `samtools mpileup` command, but with much faster performance due to the optimized `to_array` implementation."
   ]
  },
  {
   "cell_type": "code",
   "execution_count": 1,
   "metadata": {},
   "outputs": [],
   "source": [
    "import seqpandas as spd\n",
    "from seqpandas.pileup import Pileup\n",
    "from seqpandas.tools.pathing import pathing\n",
    "import numpy as np\n",
    "import pandas as pd"
   ]
  },
  {
   "cell_type": "markdown",
   "metadata": {},
   "source": [
    "## What is a Pileup?\n",
    "\n",
    "A pileup shows the alignment of reads at each position of a reference genome. It's essential for:\n",
    "- Variant calling\n",
    "- Coverage analysis\n",
    "- Base quality assessment\n",
    "- SNP/indel detection\n",
    "\n",
    "The old `samtools mpileup` command was widely used but has been deprecated. SeqPandas provides a faster, more memory-efficient alternative."
   ]
  },
  {
   "cell_type": "markdown",
   "metadata": {},
   "source": [
    "## Sample Files"
   ]
  },
  {
   "cell_type": "code",
   "execution_count": 2,
   "metadata": {},
   "outputs": [
    {
     "name": "stdout",
     "output_type": "stream",
     "text": [
      "Using single reference sequence: seq1\n",
      "Sequence length: 177 bp\n"
     ]
    }
   ],
   "source": [
    "# Example files for demonstration\n",
    "# Note: The pileup requires a single reference sequence\n",
    "# We'll create a simple single-sequence FASTA for this demo\n",
    "reference_fasta = \"tests/test-data/example.fasta\"\n",
    "alignment_sam = \"tests/test-data/example.sam\"\n",
    "\n",
    "# For this tutorial, we'll create a temporary single-sequence FASTA\n",
    "# since the example.fasta has multiple sequences\n",
    "import tempfile\n",
    "from Bio import SeqIO\n",
    "\n",
    "# Read the first sequence from the multi-sequence FASTA\n",
    "with open(reference_fasta, \"r\") as f:\n",
    "    first_seq = next(SeqIO.parse(f, \"fasta\"))\n",
    "\n",
    "# Create a temporary single-sequence FASTA\n",
    "with tempfile.NamedTemporaryFile(mode=\"w\", suffix=\".fasta\", delete=False) as tmp_fasta:\n",
    "    SeqIO.write([first_seq], tmp_fasta, \"fasta\")\n",
    "    single_seq_fasta = tmp_fasta.name\n",
    "\n",
    "print(f\"Using single reference sequence: {first_seq.id}\")\n",
    "print(f\"Sequence length: {len(first_seq.seq)} bp\")"
   ]
  },
  {
   "cell_type": "markdown",
   "metadata": {},
   "source": [
    "## Basic Pileup Creation\n",
    "\n",
    "The `Pileup` class creates a 2D matrix representation of aligned reads against a reference sequence.\n",
    "\n",
    "**Important:** The Pileup class requires a single reference sequence in the FASTA file. If your FASTA contains multiple sequences, you'll need to extract the relevant one first (as we do in the cell above)."
   ]
  },
  {
   "cell_type": "code",
   "execution_count": 3,
   "metadata": {},
   "outputs": [
    {
     "name": "stdout",
     "output_type": "stream",
     "text": [
      "=== Building Pileup From Scratch ===\n",
      "=== Pilup Complete ===\n"
     ]
    }
   ],
   "source": [
    "# Create a pileup object\n",
    "# Note: Using the single-sequence FASTA we created above\n",
    "pileup = Pileup(\n",
    "    reference_file=single_seq_fasta,  # Using single-sequence file\n",
    "    alignment_file=alignment_sam,\n",
    "    minimum_coverage=5,  # Minimum coverage to call variants\n",
    "    heterozygous_threshold=0.25,  # Threshold for heterozygous calls\n",
    "    mimimum_alignment_coverage=0.75,  # Minimum fraction of alignment to include\n",
    ")"
   ]
  },
  {
   "cell_type": "markdown",
   "metadata": {},
   "source": [
    "## Understanding the Pileup Matrix Structure\n",
    "\n",
    "The pileup matrix has 13 columns:\n",
    "- Column 0: Variant call flag (1 if variant detected, 0 otherwise)\n",
    "- Columns 1-4: Reference base counts (A, C, G, T)\n",
    "- Columns 5-8: Alternative base counts (A, C, G, T)\n",
    "- Columns 9-12: Insertion counts (A, C, G, T)\n",
    "\n",
    "Each row represents a position in the reference sequence."
   ]
  },
  {
   "cell_type": "code",
   "execution_count": 4,
   "metadata": {},
   "outputs": [
    {
     "data": {
      "text/plain": [
       "array([[0, 0, 0, 0, 1, 0, 0, 0, 1, 0, 0, 0, 0],\n",
       "       [0, 0, 0, 0, 1, 0, 0, 0, 1, 0, 0, 0, 0],\n",
       "       [0, 2, 0, 0, 0, 2, 0, 0, 0, 0, 0, 0, 0],\n",
       "       [0, 0, 0, 0, 2, 0, 0, 2, 0, 0, 0, 0, 0],\n",
       "       [0, 0, 2, 0, 0, 2, 0, 0, 0, 0, 0, 0, 0],\n",
       "       [0, 0, 0, 0, 2, 0, 0, 0, 2, 0, 0, 0, 0],\n",
       "       [0, 0, 0, 2, 0, 2, 0, 0, 0, 0, 0, 0, 0],\n",
       "       [0, 0, 2, 0, 0, 2, 0, 0, 0, 1, 0, 3, 0],\n",
       "       [0, 0, 0, 0, 2, 1, 0, 1, 0, 0, 0, 0, 0],\n",
       "       [0, 0, 3, 0, 0, 2, 0, 0, 1, 0, 0, 0, 0],\n",
       "       [0, 0, 0, 0, 3, 1, 0, 0, 2, 0, 0, 0, 0],\n",
       "       [0, 0, 0, 0, 2, 2, 0, 0, 0, 0, 0, 0, 0],\n",
       "       [0, 0, 1, 0, 0, 0, 0, 1, 0, 0, 0, 0, 0],\n",
       "       [0, 0, 0, 2, 0, 0, 2, 0, 0, 0, 0, 0, 0],\n",
       "       [0, 0, 2, 0, 0, 0, 0, 0, 2, 0, 0, 0, 0],\n",
       "       [0, 0, 0, 0, 0, 0, 0, 0, 0, 0, 0, 0, 0],\n",
       "       [0, 0, 0, 0, 0, 0, 0, 0, 0, 0, 0, 0, 0],\n",
       "       [0, 0, 0, 0, 0, 0, 0, 0, 0, 0, 0, 0, 0],\n",
       "       [0, 0, 0, 0, 0, 0, 0, 0, 0, 0, 0, 0, 0],\n",
       "       [0, 0, 0, 0, 0, 0, 0, 0, 0, 0, 0, 0, 0],\n",
       "       [0, 0, 0, 0, 0, 0, 0, 0, 0, 0, 0, 0, 0],\n",
       "       [0, 0, 0, 0, 0, 0, 0, 0, 0, 0, 0, 0, 0],\n",
       "       [0, 1, 0, 0, 0, 0, 0, 0, 1, 0, 0, 0, 0],\n",
       "       [0, 1, 0, 0, 0, 1, 0, 0, 0, 0, 0, 0, 0],\n",
       "       [0, 0, 0, 1, 0, 0, 0, 1, 0, 0, 0, 0, 0],\n",
       "       [0, 0, 0, 0, 1, 0, 0, 1, 0, 0, 0, 0, 0],\n",
       "       [0, 1, 0, 0, 0, 0, 1, 0, 0, 0, 0, 0, 0]])"
      ]
     },
     "execution_count": 4,
     "metadata": {},
     "output_type": "execute_result"
    }
   ],
   "source": [
    "pileup.pileup"
   ]
  },
  {
   "cell_type": "code",
   "execution_count": 5,
   "metadata": {},
   "outputs": [
    {
     "name": "stdout",
     "output_type": "stream",
     "text": [
      "Pileup matrix shape: (27, 13)\n",
      "\n",
      "First 10 positions:\n",
      "[[0 0 0 0 1 0 0 0 1 0 0 0 0]\n",
      " [0 0 0 0 1 0 0 0 1 0 0 0 0]\n",
      " [0 2 0 0 0 2 0 0 0 0 0 0 0]\n",
      " [0 0 0 0 2 0 0 2 0 0 0 0 0]\n",
      " [0 0 2 0 0 2 0 0 0 0 0 0 0]\n",
      " [0 0 0 0 2 0 0 0 2 0 0 0 0]\n",
      " [0 0 0 2 0 2 0 0 0 0 0 0 0]\n",
      " [0 0 2 0 0 2 0 0 0 1 0 3 0]\n",
      " [0 0 0 0 2 1 0 1 0 0 0 0 0]\n",
      " [0 0 3 0 0 2 0 0 1 0 0 0 0]]\n"
     ]
    }
   ],
   "source": [
    "# View the first 10 positions of the pileup\n",
    "print(\"Pileup matrix shape:\", pileup.pileup.shape)\n",
    "print(\"\\nFirst 10 positions:\")\n",
    "print(pileup.pileup[:10])"
   ]
  },
  {
   "cell_type": "code",
   "execution_count": 6,
   "metadata": {},
   "outputs": [
    {
     "data": {
      "text/html": [
       "<div>\n",
       "<style scoped>\n",
       "    .dataframe tbody tr th:only-of-type {\n",
       "        vertical-align: middle;\n",
       "    }\n",
       "\n",
       "    .dataframe tbody tr th {\n",
       "        vertical-align: top;\n",
       "    }\n",
       "\n",
       "    .dataframe thead th {\n",
       "        text-align: right;\n",
       "    }\n",
       "</style>\n",
       "<table border=\"1\" class=\"dataframe\">\n",
       "  <thead>\n",
       "    <tr style=\"text-align: right;\">\n",
       "      <th></th>\n",
       "      <th>variant_flag</th>\n",
       "      <th>ref_A</th>\n",
       "      <th>ref_C</th>\n",
       "      <th>ref_G</th>\n",
       "      <th>ref_T</th>\n",
       "      <th>alt_A</th>\n",
       "      <th>alt_C</th>\n",
       "      <th>alt_G</th>\n",
       "      <th>alt_T</th>\n",
       "      <th>ins_A</th>\n",
       "      <th>ins_C</th>\n",
       "      <th>ins_G</th>\n",
       "      <th>ins_T</th>\n",
       "    </tr>\n",
       "    <tr>\n",
       "      <th>position</th>\n",
       "      <th></th>\n",
       "      <th></th>\n",
       "      <th></th>\n",
       "      <th></th>\n",
       "      <th></th>\n",
       "      <th></th>\n",
       "      <th></th>\n",
       "      <th></th>\n",
       "      <th></th>\n",
       "      <th></th>\n",
       "      <th></th>\n",
       "      <th></th>\n",
       "      <th></th>\n",
       "    </tr>\n",
       "  </thead>\n",
       "  <tbody>\n",
       "    <tr>\n",
       "      <th>0</th>\n",
       "      <td>0</td>\n",
       "      <td>0</td>\n",
       "      <td>0</td>\n",
       "      <td>0</td>\n",
       "      <td>1</td>\n",
       "      <td>0</td>\n",
       "      <td>0</td>\n",
       "      <td>0</td>\n",
       "      <td>1</td>\n",
       "      <td>0</td>\n",
       "      <td>0</td>\n",
       "      <td>0</td>\n",
       "      <td>0</td>\n",
       "    </tr>\n",
       "    <tr>\n",
       "      <th>1</th>\n",
       "      <td>0</td>\n",
       "      <td>0</td>\n",
       "      <td>0</td>\n",
       "      <td>0</td>\n",
       "      <td>1</td>\n",
       "      <td>0</td>\n",
       "      <td>0</td>\n",
       "      <td>0</td>\n",
       "      <td>1</td>\n",
       "      <td>0</td>\n",
       "      <td>0</td>\n",
       "      <td>0</td>\n",
       "      <td>0</td>\n",
       "    </tr>\n",
       "    <tr>\n",
       "      <th>2</th>\n",
       "      <td>0</td>\n",
       "      <td>2</td>\n",
       "      <td>0</td>\n",
       "      <td>0</td>\n",
       "      <td>0</td>\n",
       "      <td>2</td>\n",
       "      <td>0</td>\n",
       "      <td>0</td>\n",
       "      <td>0</td>\n",
       "      <td>0</td>\n",
       "      <td>0</td>\n",
       "      <td>0</td>\n",
       "      <td>0</td>\n",
       "    </tr>\n",
       "    <tr>\n",
       "      <th>3</th>\n",
       "      <td>0</td>\n",
       "      <td>0</td>\n",
       "      <td>0</td>\n",
       "      <td>0</td>\n",
       "      <td>2</td>\n",
       "      <td>0</td>\n",
       "      <td>0</td>\n",
       "      <td>2</td>\n",
       "      <td>0</td>\n",
       "      <td>0</td>\n",
       "      <td>0</td>\n",
       "      <td>0</td>\n",
       "      <td>0</td>\n",
       "    </tr>\n",
       "    <tr>\n",
       "      <th>4</th>\n",
       "      <td>0</td>\n",
       "      <td>0</td>\n",
       "      <td>2</td>\n",
       "      <td>0</td>\n",
       "      <td>0</td>\n",
       "      <td>2</td>\n",
       "      <td>0</td>\n",
       "      <td>0</td>\n",
       "      <td>0</td>\n",
       "      <td>0</td>\n",
       "      <td>0</td>\n",
       "      <td>0</td>\n",
       "      <td>0</td>\n",
       "    </tr>\n",
       "    <tr>\n",
       "      <th>5</th>\n",
       "      <td>0</td>\n",
       "      <td>0</td>\n",
       "      <td>0</td>\n",
       "      <td>0</td>\n",
       "      <td>2</td>\n",
       "      <td>0</td>\n",
       "      <td>0</td>\n",
       "      <td>0</td>\n",
       "      <td>2</td>\n",
       "      <td>0</td>\n",
       "      <td>0</td>\n",
       "      <td>0</td>\n",
       "      <td>0</td>\n",
       "    </tr>\n",
       "    <tr>\n",
       "      <th>6</th>\n",
       "      <td>0</td>\n",
       "      <td>0</td>\n",
       "      <td>0</td>\n",
       "      <td>2</td>\n",
       "      <td>0</td>\n",
       "      <td>2</td>\n",
       "      <td>0</td>\n",
       "      <td>0</td>\n",
       "      <td>0</td>\n",
       "      <td>0</td>\n",
       "      <td>0</td>\n",
       "      <td>0</td>\n",
       "      <td>0</td>\n",
       "    </tr>\n",
       "    <tr>\n",
       "      <th>7</th>\n",
       "      <td>0</td>\n",
       "      <td>0</td>\n",
       "      <td>2</td>\n",
       "      <td>0</td>\n",
       "      <td>0</td>\n",
       "      <td>2</td>\n",
       "      <td>0</td>\n",
       "      <td>0</td>\n",
       "      <td>0</td>\n",
       "      <td>1</td>\n",
       "      <td>0</td>\n",
       "      <td>3</td>\n",
       "      <td>0</td>\n",
       "    </tr>\n",
       "    <tr>\n",
       "      <th>8</th>\n",
       "      <td>0</td>\n",
       "      <td>0</td>\n",
       "      <td>0</td>\n",
       "      <td>0</td>\n",
       "      <td>2</td>\n",
       "      <td>1</td>\n",
       "      <td>0</td>\n",
       "      <td>1</td>\n",
       "      <td>0</td>\n",
       "      <td>0</td>\n",
       "      <td>0</td>\n",
       "      <td>0</td>\n",
       "      <td>0</td>\n",
       "    </tr>\n",
       "    <tr>\n",
       "      <th>9</th>\n",
       "      <td>0</td>\n",
       "      <td>0</td>\n",
       "      <td>3</td>\n",
       "      <td>0</td>\n",
       "      <td>0</td>\n",
       "      <td>2</td>\n",
       "      <td>0</td>\n",
       "      <td>0</td>\n",
       "      <td>1</td>\n",
       "      <td>0</td>\n",
       "      <td>0</td>\n",
       "      <td>0</td>\n",
       "      <td>0</td>\n",
       "    </tr>\n",
       "  </tbody>\n",
       "</table>\n",
       "</div>"
      ],
      "text/plain": [
       "          variant_flag  ref_A  ref_C  ref_G  ref_T  alt_A  alt_C  alt_G  \\\n",
       "position                                                                  \n",
       "0                    0      0      0      0      1      0      0      0   \n",
       "1                    0      0      0      0      1      0      0      0   \n",
       "2                    0      2      0      0      0      2      0      0   \n",
       "3                    0      0      0      0      2      0      0      2   \n",
       "4                    0      0      2      0      0      2      0      0   \n",
       "5                    0      0      0      0      2      0      0      0   \n",
       "6                    0      0      0      2      0      2      0      0   \n",
       "7                    0      0      2      0      0      2      0      0   \n",
       "8                    0      0      0      0      2      1      0      1   \n",
       "9                    0      0      3      0      0      2      0      0   \n",
       "\n",
       "          alt_T  ins_A  ins_C  ins_G  ins_T  \n",
       "position                                     \n",
       "0             1      0      0      0      0  \n",
       "1             1      0      0      0      0  \n",
       "2             0      0      0      0      0  \n",
       "3             0      0      0      0      0  \n",
       "4             0      0      0      0      0  \n",
       "5             2      0      0      0      0  \n",
       "6             0      0      0      0      0  \n",
       "7             0      1      0      3      0  \n",
       "8             0      0      0      0      0  \n",
       "9             1      0      0      0      0  "
      ]
     },
     "execution_count": 6,
     "metadata": {},
     "output_type": "execute_result"
    }
   ],
   "source": [
    "# Create a more readable representation\n",
    "columns = [\n",
    "    \"variant_flag\",\n",
    "    \"ref_A\",\n",
    "    \"ref_C\",\n",
    "    \"ref_G\",\n",
    "    \"ref_T\",\n",
    "    \"alt_A\",\n",
    "    \"alt_C\",\n",
    "    \"alt_G\",\n",
    "    \"alt_T\",\n",
    "    \"ins_A\",\n",
    "    \"ins_C\",\n",
    "    \"ins_G\",\n",
    "    \"ins_T\",\n",
    "]\n",
    "\n",
    "pileup_df = pd.DataFrame(pileup.pileup[:20], columns=columns)\n",
    "pileup_df.index.name = \"position\"\n",
    "pileup_df.head(10)"
   ]
  },
  {
   "cell_type": "markdown",
   "metadata": {},
   "source": [
    "## Coverage Analysis\n",
    "\n",
    "One of the most common uses of pileup data is coverage analysis."
   ]
  },
  {
   "cell_type": "code",
   "execution_count": 7,
   "metadata": {},
   "outputs": [
    {
     "name": "stdout",
     "output_type": "stream",
     "text": [
      "Mean coverage: 1.26\n",
      "Max coverage: 3\n",
      "Min coverage: 0\n",
      "Positions with coverage >= 5: 0\n"
     ]
    }
   ],
   "source": [
    "# Calculate coverage at each position\n",
    "coverage = pileup.pileup[:, 5:9].sum(axis=1)  # Sum alternative base counts\n",
    "\n",
    "print(f\"Mean coverage: {coverage.mean():.2f}\")\n",
    "print(f\"Max coverage: {coverage.max()}\")\n",
    "print(f\"Min coverage: {coverage.min()}\")\n",
    "print(f\"Positions with coverage >= {pileup.minimum_coverage}: {(coverage >= pileup.minimum_coverage).sum()}\")"
   ]
  },
  {
   "cell_type": "markdown",
   "metadata": {},
   "source": [
    "## Variant Detection\n",
    "\n",
    "The pileup automatically detects potential variants based on the coverage and heterozygous thresholds."
   ]
  },
  {
   "cell_type": "code",
   "execution_count": 8,
   "metadata": {},
   "outputs": [
    {
     "name": "stdout",
     "output_type": "stream",
     "text": [
      "Number of potential variants detected: 0\n"
     ]
    }
   ],
   "source": [
    "# Find positions with detected variants\n",
    "variant_positions = np.where(pileup.pileup[:, 0] == 1)[0]\n",
    "\n",
    "print(f\"Number of potential variants detected: {len(variant_positions)}\")\n",
    "if len(variant_positions) > 0:\n",
    "    print(f\"Variant positions: {variant_positions[:10]}...\")  # Show first 10\n",
    "\n",
    "    # Show details for the first variant\n",
    "    first_variant_pos = variant_positions[0]\n",
    "    print(f\"\\nDetails for variant at position {first_variant_pos}:\")\n",
    "    variant_data = pileup_df.iloc[first_variant_pos]\n",
    "    print(variant_data)"
   ]
  },
  {
   "cell_type": "markdown",
   "metadata": {},
   "source": [
    "## Comparison with samtools mpileup\n",
    "\n",
    "The traditional `samtools mpileup` command would output text like:\n",
    "```\n",
    "chr1  100  A  10  ..........  IIIIIIIIII\n",
    "chr1  101  C  12  ....G.......  IIIIIIIIIIII\n",
    "```\n",
    "\n",
    "SeqPandas provides the same information in a structured numpy array that's:\n",
    "- **Faster to process** - Optimized C/Cython implementation\n",
    "- **More memory efficient** - Numpy arrays vs text parsing\n",
    "- **Easier to analyze** - Direct array operations vs string parsing"
   ]
  },
  {
   "cell_type": "code",
   "execution_count": 9,
   "metadata": {},
   "outputs": [
    {
     "name": "stdout",
     "output_type": "stream",
     "text": [
      "Position\tRef\tCov\tBases\n",
      "ref\t1\tA\t1\tT\n",
      "ref\t2\tT\t1\t.\n",
      "ref\t3\tG\t2\tAA\n",
      "ref\t4\tG\t2\t..\n",
      "ref\t5\tA\t2\t..\n",
      "ref\t6\tT\t2\t..\n",
      "ref\t7\tT\t2\tAA\n",
      "ref\t8\tT\t2\tAA\n",
      "ref\t9\tA\t2\t.G\n",
      "ref\t10\tT\t3\tAA.\n"
     ]
    }
   ],
   "source": [
    "# Simulate mpileup-style output from our pileup matrix\n",
    "def format_as_mpileup(pileup_matrix, reference_seq, start_pos=0, end_pos=10):\n",
    "    \"\"\"Format pileup matrix as traditional mpileup output.\"\"\"\n",
    "    bases = [\"A\", \"C\", \"G\", \"T\"]\n",
    "\n",
    "    for pos in range(start_pos, min(end_pos, len(pileup_matrix))):\n",
    "        ref_base = reference_seq[pos] if pos < len(reference_seq) else \"N\"\n",
    "        coverage = pileup_matrix[pos, 5:9].sum()\n",
    "\n",
    "        # Build read base string\n",
    "        read_bases = []\n",
    "        for i, base in enumerate(bases):\n",
    "            count = pileup_matrix[pos, 5 + i]  # Alt base counts\n",
    "            if base == ref_base:\n",
    "                read_bases.extend([\".\"] * count)  # Match\n",
    "            else:\n",
    "                read_bases.extend([base] * count)  # Mismatch\n",
    "\n",
    "        read_base_str = \"\".join(read_bases) if read_bases else \"*\"\n",
    "        print(f\"ref\\t{pos+1}\\t{ref_base}\\t{coverage}\\t{read_base_str}\")\n",
    "\n",
    "\n",
    "# Display mpileup-style format\n",
    "print(\"Position\\tRef\\tCov\\tBases\")\n",
    "format_as_mpileup(pileup.pileup, pileup.ref_seq, 0, 10)"
   ]
  },
  {
   "cell_type": "markdown",
   "metadata": {},
   "source": [
    "## Performance Benefits\n",
    "\n",
    "The key performance advantage comes from the optimized `to_array` function that uses Cython for fast array operations."
   ]
  },
  {
   "cell_type": "code",
   "execution_count": 10,
   "metadata": {},
   "outputs": [
    {
     "name": "stdout",
     "output_type": "stream",
     "text": [
      "✓ Using optimized Cython implementation\n",
      "  This provides significant speedup for large BAM files\n"
     ]
    }
   ],
   "source": [
    "# Check if Cython extension is available\n",
    "try:\n",
    "    from seqpandas.cython_numpy import to_array\n",
    "\n",
    "    print(\"✓ Using optimized Cython implementation\")\n",
    "    print(\"  This provides significant speedup for large BAM files\")\n",
    "except ImportError:\n",
    "    print(\"✗ Cython extension not available\")\n",
    "    print(\"  Using pure Python fallback (slower but functional)\")\n",
    "    print(\"  To enable faster processing, rebuild with Cython support\")"
   ]
  },
  {
   "cell_type": "markdown",
   "metadata": {},
   "source": [
    "## Saving and Loading Pileups\n",
    "\n",
    "For large files, you can save the computed pileup to avoid recomputation."
   ]
  },
  {
   "cell_type": "code",
   "execution_count": 11,
   "metadata": {},
   "outputs": [
    {
     "name": "stdout",
     "output_type": "stream",
     "text": [
      "Pileup saved to example_pileup.npy\n",
      "=== Using Input Pileup ===\n",
      "=== Pilup Complete ===\n",
      "Pileup loaded from saved file\n"
     ]
    }
   ],
   "source": [
    "# Save pileup for later use\n",
    "output_file = \"example_pileup.npy\"\n",
    "pileup.save_pileup(output_file)\n",
    "print(f\"Pileup saved to {output_file}\")\n",
    "\n",
    "# Load a previously saved pileup\n",
    "# This is much faster than recomputing from BAM/SAM\n",
    "pileup_fast = Pileup(\n",
    "    reference_file=single_seq_fasta,  # Using single-sequence file\n",
    "    alignment_file=alignment_sam,\n",
    "    use_saved_pileup=output_file,  # Load from saved file\n",
    ")\n",
    "print(\"Pileup loaded from saved file\")"
   ]
  },
  {
   "cell_type": "markdown",
   "metadata": {},
   "source": [
    "## Advanced Usage: Filtering and Quality Control"
   ]
  },
  {
   "cell_type": "code",
   "execution_count": 12,
   "metadata": {},
   "outputs": [
    {
     "name": "stdout",
     "output_type": "stream",
     "text": [
      "Alignment quality statistics:\n",
      "  Mean mapping coverage: 0.953\n",
      "  Min mapping coverage: 0.812\n",
      "  Max mapping coverage: 1.000\n",
      "  Alignments passing filter: 4\n"
     ]
    }
   ],
   "source": [
    "# Access mapping coverage statistics\n",
    "if pileup.mapping_coverages:\n",
    "    mapping_stats = pd.Series(pileup.mapping_coverages)\n",
    "    print(\"Alignment quality statistics:\")\n",
    "    print(f\"  Mean mapping coverage: {mapping_stats.mean():.3f}\")\n",
    "    print(f\"  Min mapping coverage: {mapping_stats.min():.3f}\")\n",
    "    print(f\"  Max mapping coverage: {mapping_stats.max():.3f}\")\n",
    "    print(f\"  Alignments passing filter: {len(mapping_stats)}\")"
   ]
  },
  {
   "cell_type": "markdown",
   "metadata": {},
   "source": [
    "## Working with Real BAM Files\n",
    "\n",
    "For production use with real BAM files, you would typically:\n",
    "\n",
    "```python\n",
    "# Example with real data (not run here due to file size)\n",
    "pileup = Pileup(\n",
    "    reference_file='reference_genome.fasta',\n",
    "    alignment_file='sample.bam',\n",
    "    minimum_coverage=30,  # Higher for real data\n",
    "    heterozygous_threshold=0.25,\n",
    "    mimimum_alignment_coverage=0.90,  # Stricter for real data\n",
    "    save_pileup_to_destination='sample_pileup.npy'  # Save for reuse\n",
    ")\n",
    "```"
   ]
  },
  {
   "cell_type": "markdown",
   "metadata": {},
   "source": [
    "## Integration with Machine Learning\n",
    "\n",
    "The numpy array format makes it easy to use pileup data as input for machine learning models."
   ]
  },
  {
   "cell_type": "code",
   "execution_count": 14,
   "metadata": {},
   "outputs": [
    {
     "name": "stdout",
     "output_type": "stream",
     "text": [
      "ML-ready feature matrix shape: (0, 4)\n",
      "Number of positive examples (variants): 0\n",
      "Number of negative examples (reference): 0\n"
     ]
    }
   ],
   "source": [
    "# Example: Prepare pileup data for ML model\n",
    "# Extract features for positions with sufficient coverage\n",
    "min_coverage_for_ml = 10\n",
    "coverage = pileup.pileup[:, 5:9].sum(axis=1)\n",
    "high_coverage_mask = coverage >= min_coverage_for_ml\n",
    "\n",
    "# Feature matrix: base counts normalized by coverage\n",
    "features = pileup.pileup[high_coverage_mask, 5:9]  # Alt base counts\n",
    "coverage_filtered = coverage[high_coverage_mask, np.newaxis]\n",
    "normalized_features = features / (coverage_filtered + 1e-6)  # Avoid division by zero\n",
    "\n",
    "# Labels: variant flags\n",
    "labels = pileup.pileup[high_coverage_mask, 0]\n",
    "\n",
    "print(f\"ML-ready feature matrix shape: {normalized_features.shape}\")\n",
    "print(f\"Number of positive examples (variants): {labels.sum():.0f}\")\n",
    "print(f\"Number of negative examples (reference): {(1-labels).sum():.0f}\")"
   ]
  },
  {
   "cell_type": "markdown",
   "metadata": {},
   "source": [
    "## Summary\n",
    "\n",
    "SeqPandas Pileup provides:\n",
    "- **Fast conversion** of BAM/SAM alignments to numpy arrays\n",
    "- **Automatic variant detection** based on configurable thresholds\n",
    "- **Memory-efficient storage** using numpy arrays\n",
    "- **Easy integration** with pandas DataFrames and ML frameworks\n",
    "- **Significant speedup** over text-based mpileup parsing\n",
    "\n",
    "The structured array format makes downstream analysis much simpler than parsing traditional mpileup text output."
   ]
  }
 ],
 "metadata": {
  "kernelspec": {
   "display_name": "seqpandas",
   "language": "python",
   "name": "python3"
  },
  "language_info": {
   "codemirror_mode": {
    "name": "ipython",
    "version": 3
   },
   "file_extension": ".py",
   "mimetype": "text/x-python",
   "name": "python",
   "nbconvert_exporter": "python",
   "pygments_lexer": "ipython3",
   "version": "3.13.5"
  }
 },
 "nbformat": 4,
 "nbformat_minor": 4
}
