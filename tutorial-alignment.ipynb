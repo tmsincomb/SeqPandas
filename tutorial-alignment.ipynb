{
 "cells": [
  {
   "cell_type": "markdown",
   "metadata": {},
   "source": [
    "# SeqPandas Alignment and Logo Tutorial\n",
    "\n",
    "This tutorial demonstrates how to use SeqPandas for:\n",
    "1. **Alignment visualization** - Reading and visualizing SAM/BAM alignments with gaps\n",
    "2. **Sequence logos** - Creating publication-quality sequence logos from alignments\n",
    "\n",
    "These features are particularly useful for:\n",
    "- Visualizing multiple sequence alignments\n",
    "- Identifying conserved regions\n",
    "- Creating sequence motif logos\n",
    "- Analyzing alignment patterns"
   ]
  },
  {
   "cell_type": "code",
   "execution_count": 1,
   "metadata": {},
   "outputs": [
    {
     "data": {
      "text/plain": [
       "<Figure size 100x100 with 0 Axes>"
      ]
     },
     "metadata": {},
     "output_type": "display_data"
    }
   ],
   "source": [
    "import seqpandas as spd\n",
    "from seqpandas.alignment import (\n",
    "    read_aligned_sam,\n",
    "    show_alignment_block,\n",
    "    alignment_to_frequency_matrix,\n",
    "    generate_position_labels,\n",
    "    get_alignment_frequencies,\n",
    "    sequences_to_logo_format,\n",
    ")\n",
    "from seqpandas.logo import plot_logo_with_indels\n",
    "import pandas as pd\n",
    "import numpy as np\n",
    "from pathlib import Path\n",
    "import tempfile"
   ]
  },
  {
   "cell_type": "markdown",
   "metadata": {},
   "source": [
    "## Part 1: Alignment Visualization\n",
    "\n",
    "The alignment module provides tools to read SAM/BAM files and visualize aligned sequences with explicit gap representations."
   ]
  },
  {
   "cell_type": "markdown",
   "metadata": {},
   "source": [
    "### Sample Files Setup"
   ]
  },
  {
   "cell_type": "code",
   "execution_count": 2,
   "metadata": {},
   "outputs": [
    {
     "name": "stdout",
     "output_type": "stream",
     "text": [
      "Using SAM file: tests/test-data/example.sam\n",
      "Using reference: tests/test-data/example.fasta\n"
     ]
    }
   ],
   "source": [
    "# Example SAM file from test data\n",
    "alignment_sam = \"tests/test-data/example.sam\"\n",
    "reference_fasta = \"tests/test-data/example.fasta\"\n",
    "\n",
    "print(f\"Using SAM file: {alignment_sam}\")\n",
    "print(f\"Using reference: {reference_fasta}\")"
   ]
  },
  {
   "cell_type": "markdown",
   "metadata": {},
   "source": [
    "### Reading Aligned Sequences\n",
    "\n",
    "The `read_aligned_sam` function reads SAM/BAM files and returns sequences aligned to reference coordinates, with gaps shown explicitly."
   ]
  },
  {
   "cell_type": "code",
   "execution_count": 3,
   "metadata": {},
   "outputs": [
    {
     "name": "stdout",
     "output_type": "stream",
     "text": [
      "Loaded 5 alignments\n",
      "\n",
      "DataFrame columns:\n",
      "['read_name', 'ref_name', 'ref_start', 'ref_end', 'strand', 'mapq', 'aligned_sequence', 'original_sequence', 'cigar', 'alignment_start', 'alignment_end']\n"
     ]
    }
   ],
   "source": [
    "# Read SAM file with aligned view\n",
    "aligned_df = read_aligned_sam(\n",
    "    alignment_file=alignment_sam,\n",
    "    reference_file=reference_fasta,\n",
    "    max_reads=10,  # Limit for demonstration\n",
    "    show_insertions=True,  # Show insertion positions\n",
    "    gap_char=\"-\",  # Character for deletions\n",
    "    insertion_char=\"*\",  # Character for insertions\n",
    ")\n",
    "\n",
    "print(f\"Loaded {len(aligned_df)} alignments\")\n",
    "print(\"\\nDataFrame columns:\")\n",
    "print(aligned_df.columns.tolist())"
   ]
  },
  {
   "cell_type": "code",
   "execution_count": 4,
   "metadata": {},
   "outputs": [
    {
     "data": {
      "text/html": [
       "<div>\n",
       "<style scoped>\n",
       "    .dataframe tbody tr th:only-of-type {\n",
       "        vertical-align: middle;\n",
       "    }\n",
       "\n",
       "    .dataframe tbody tr th {\n",
       "        vertical-align: top;\n",
       "    }\n",
       "\n",
       "    .dataframe thead th {\n",
       "        text-align: right;\n",
       "    }\n",
       "</style>\n",
       "<table border=\"1\" class=\"dataframe\">\n",
       "  <thead>\n",
       "    <tr style=\"text-align: right;\">\n",
       "      <th></th>\n",
       "      <th>read_name</th>\n",
       "      <th>ref_name</th>\n",
       "      <th>ref_start</th>\n",
       "      <th>ref_end</th>\n",
       "      <th>strand</th>\n",
       "      <th>mapq</th>\n",
       "    </tr>\n",
       "  </thead>\n",
       "  <tbody>\n",
       "    <tr>\n",
       "      <th>0</th>\n",
       "      <td>r001</td>\n",
       "      <td>ref1</td>\n",
       "      <td>6</td>\n",
       "      <td>22</td>\n",
       "      <td>+</td>\n",
       "      <td>30</td>\n",
       "    </tr>\n",
       "    <tr>\n",
       "      <th>1</th>\n",
       "      <td>r002</td>\n",
       "      <td>ref1</td>\n",
       "      <td>8</td>\n",
       "      <td>18</td>\n",
       "      <td>+</td>\n",
       "      <td>30</td>\n",
       "    </tr>\n",
       "    <tr>\n",
       "      <th>2</th>\n",
       "      <td>r003</td>\n",
       "      <td>ref1</td>\n",
       "      <td>8</td>\n",
       "      <td>14</td>\n",
       "      <td>+</td>\n",
       "      <td>30</td>\n",
       "    </tr>\n",
       "    <tr>\n",
       "      <th>3</th>\n",
       "      <td>r004</td>\n",
       "      <td>ref1</td>\n",
       "      <td>15</td>\n",
       "      <td>40</td>\n",
       "      <td>+</td>\n",
       "      <td>30</td>\n",
       "    </tr>\n",
       "    <tr>\n",
       "      <th>4</th>\n",
       "      <td>r003</td>\n",
       "      <td>ref2</td>\n",
       "      <td>28</td>\n",
       "      <td>33</td>\n",
       "      <td>-</td>\n",
       "      <td>17</td>\n",
       "    </tr>\n",
       "  </tbody>\n",
       "</table>\n",
       "</div>"
      ],
      "text/plain": [
       "  read_name ref_name  ref_start  ref_end strand  mapq\n",
       "0      r001     ref1          6       22      +    30\n",
       "1      r002     ref1          8       18      +    30\n",
       "2      r003     ref1          8       14      +    30\n",
       "3      r004     ref1         15       40      +    30\n",
       "4      r003     ref2         28       33      -    17"
      ]
     },
     "execution_count": 4,
     "metadata": {},
     "output_type": "execute_result"
    }
   ],
   "source": [
    "# View the first few alignments\n",
    "aligned_df[[\"read_name\", \"ref_name\", \"ref_start\", \"ref_end\", \"strand\", \"mapq\"]].head()"
   ]
  },
  {
   "cell_type": "markdown",
   "metadata": {},
   "source": [
    "### Visualizing Alignment Blocks\n",
    "\n",
    "The `show_alignment_block` function creates a text visualization of aligned sequences, similar to traditional alignment viewers."
   ]
  },
  {
   "cell_type": "code",
   "execution_count": 5,
   "metadata": {},
   "outputs": [
    {
     "name": "stdout",
     "output_type": "stream",
     "text": [
      "Position 6:\n",
      "================================================================================\n",
      "r001                   TTAGATAAagGATA-CTG------------------\n",
      "r002                   --AGATAAggATA----------------------\n",
      "r003                   --AGCTAA--------------------------\n",
      "r004                   ---------ATAGCT--------------TCAGC\n",
      "r003                   ----------------------TAGGC-------\n"
     ]
    }
   ],
   "source": [
    "# Create alignment visualization\n",
    "if len(aligned_df) > 0:\n",
    "    alignment_view = show_alignment_block(\n",
    "        aligned_df,\n",
    "        max_display=5,  # Show first 5 sequences\n",
    "        width=80,  # Characters per line\n",
    "        show_positions=True,  # Show position ruler\n",
    "    )\n",
    "    print(alignment_view)\n",
    "else:\n",
    "    print(\"No alignments found in the SAM file\")"
   ]
  },
  {
   "cell_type": "markdown",
   "metadata": {},
   "source": [
    "### Understanding Aligned Sequences\n",
    "\n",
    "Each aligned sequence in the DataFrame:\n",
    "- Has the same length (padded with gaps)\n",
    "- Shows deletions as '-' characters\n",
    "- Shows insertions as lowercase letters (when show_insertions=True)\n",
    "- Is positioned relative to the reference coordinates"
   ]
  },
  {
   "cell_type": "code",
   "execution_count": 6,
   "metadata": {},
   "outputs": [
    {
     "name": "stdout",
     "output_type": "stream",
     "text": [
      "Read name: r001\n",
      "Reference: ref1\n",
      "Position: 6-22\n",
      "Strand: +\n",
      "CIGAR: 8M2I4M1D3M\n",
      "\n",
      "Aligned sequence (first 100 bp):\n",
      "TTAGATAAagGATA-CTG------------------\n",
      "\n",
      "Original sequence (first 100 bp):\n",
      "TTAGATAAAGGATACTG\n"
     ]
    }
   ],
   "source": [
    "# Examine a single aligned sequence in detail\n",
    "if len(aligned_df) > 0:\n",
    "    first_read = aligned_df.iloc[0]\n",
    "    print(f\"Read name: {first_read['read_name']}\")\n",
    "    print(f\"Reference: {first_read['ref_name']}\")\n",
    "    print(f\"Position: {first_read['ref_start']}-{first_read['ref_end']}\")\n",
    "    print(f\"Strand: {first_read['strand']}\")\n",
    "    print(f\"CIGAR: {first_read['cigar']}\")\n",
    "    print(f\"\\nAligned sequence (first 100 bp):\")\n",
    "    print(first_read[\"aligned_sequence\"][:100])\n",
    "    print(f\"\\nOriginal sequence (first 100 bp):\")\n",
    "    print(first_read[\"original_sequence\"][:100] if first_read[\"original_sequence\"] else \"N/A\")"
   ]
  },
  {
   "cell_type": "code",
   "execution_count": 7,
   "metadata": {},
   "outputs": [],
   "source": [
    "# Convert sequences to logo format\n",
    "if len(aligned_df) > 0 and \"sequences\" in locals():\n",
    "    logo_df, logo_labels, variant_positions = sequences_to_logo_format(sequences)\n",
    "\n",
    "    print(\"Logo-Ready Format\")\n",
    "    print(\"=\" * 40)\n",
    "    print(f\"DataFrame shape: {logo_df.shape}\")\n",
    "    print(f\"Position labels (first 10): {logo_labels[:10]}...\")\n",
    "    print(f\"\\nVariant positions (differ from reference): {variant_positions}\")\n",
    "\n",
    "    # This is the exact format that logo.py uses internally\n",
    "    print(\"\\nFrequency DataFrame (as used by logo.py):\")\n",
    "    print(logo_df.head(10))\n",
    "\n",
    "    # Show the transposed version (as saved to CSV by logo.py)\n",
    "    csv_format = logo_df.copy().T\n",
    "    csv_format.columns = logo_labels\n",
    "    print(\"\\nCSV Format (transposed, first 5 positions):\")\n",
    "    print(csv_format.iloc[:, :5])"
   ]
  },
  {
   "cell_type": "markdown",
   "metadata": {},
   "source": [
    "### Logo-Ready Format\n",
    "\n",
    "The `sequences_to_logo_format` function prepares data exactly as needed by logomaker, including identifying variant positions."
   ]
  },
  {
   "cell_type": "code",
   "execution_count": 8,
   "metadata": {},
   "outputs": [
    {
     "name": "stdout",
     "output_type": "stream",
     "text": [
      "Frequency Matrix from SAM Alignments\n",
      "========================================\n",
      "Shape: (36, 6)\n",
      "Characters: ['-', 'A', 'C', 'G', 'T', '.']\n",
      "\n",
      "First 10 positions:\n",
      "     -    A    C    G    T    .\n",
      "0  0.8  0.0  0.0  0.0  0.2  0.0\n",
      "1  0.8  0.0  0.0  0.0  0.2  0.0\n",
      "2  0.4  0.6  0.0  0.0  0.0  0.0\n",
      "3  0.4  0.0  0.0  0.6  0.0  0.0\n",
      "4  0.4  0.4  0.2  0.0  0.0  0.0\n",
      "5  0.4  0.0  0.0  0.0  0.6  0.0\n",
      "6  0.4  0.6  0.0  0.0  0.0  0.0\n",
      "7  0.4  0.6  0.0  0.0  0.0  0.0\n",
      "8  0.6  0.2  0.0  0.2  0.0  0.0\n",
      "9  0.4  0.2  0.0  0.4  0.0  0.0\n",
      "\n",
      "Positions with multiple characters (entropy > 0):\n",
      "Position 0: {'-': 0.8, 'T': 0.2}\n",
      "Position 1: {'-': 0.8, 'T': 0.2}\n",
      "Position 2: {'-': 0.4, 'A': 0.6}\n",
      "Position 3: {'-': 0.4, 'G': 0.6}\n",
      "Position 4: {'-': 0.4, 'A': 0.4, 'C': 0.2}\n",
      "Position 5: {'-': 0.4, 'T': 0.6}\n",
      "Position 6: {'-': 0.4, 'A': 0.6}\n",
      "Position 7: {'-': 0.4, 'A': 0.6}\n",
      "Position 8: {'-': 0.6, 'A': 0.2, 'G': 0.2}\n",
      "Position 9: {'-': 0.4, 'A': 0.2, 'G': 0.4}\n",
      "Position 10: {'-': 0.4, 'A': 0.2, 'G': 0.2, 'T': 0.2}\n",
      "Position 11: {'-': 0.4, 'A': 0.4, 'T': 0.2}\n",
      "Position 12: {'-': 0.4, 'A': 0.2, 'G': 0.2, 'T': 0.2}\n",
      "Position 13: {'-': 0.6, 'A': 0.2, 'C': 0.2}\n",
      "Position 14: {'-': 0.8, 'T': 0.2}\n",
      "Position 15: {'-': 0.8, 'C': 0.2}\n",
      "Position 16: {'-': 0.8, 'T': 0.2}\n",
      "Position 17: {'-': 0.8, 'G': 0.2}\n",
      "Position 22: {'-': 0.8, 'T': 0.2}\n",
      "Position 23: {'-': 0.8, 'A': 0.2}\n",
      "Position 24: {'-': 0.8, 'G': 0.2}\n",
      "Position 25: {'-': 0.8, 'G': 0.2}\n",
      "Position 26: {'-': 0.8, 'C': 0.2}\n",
      "Position 29: {'-': 0.8, 'T': 0.2}\n",
      "Position 30: {'-': 0.8, 'C': 0.2}\n",
      "Position 31: {'-': 0.8, 'A': 0.2}\n",
      "Position 32: {'-': 0.8, 'G': 0.2}\n",
      "Position 33: {'-': 0.8, 'C': 0.2}\n"
     ]
    }
   ],
   "source": [
    "# Get aligned sequences from our SAM file\n",
    "if len(aligned_df) > 0:\n",
    "    sequences = aligned_df[\"aligned_sequence\"].tolist()\n",
    "\n",
    "    # Create frequency matrix\n",
    "    freq_matrix = alignment_to_frequency_matrix(sequences)\n",
    "\n",
    "    print(\"Frequency Matrix from SAM Alignments\")\n",
    "    print(\"=\" * 40)\n",
    "    print(f\"Shape: {freq_matrix.shape}\")\n",
    "    print(f\"Characters: {list(freq_matrix.columns)}\")\n",
    "    print(\"\\nFirst 10 positions:\")\n",
    "    print(freq_matrix.head(10))\n",
    "\n",
    "    # Show positions with high variation\n",
    "    print(\"\\nPositions with multiple characters (entropy > 0):\")\n",
    "    for idx, row in freq_matrix.iterrows():\n",
    "        if (row > 0).sum() > 1:  # More than one character present\n",
    "            print(f\"Position {idx}: {dict(row[row > 0])}\")"
   ]
  },
  {
   "cell_type": "markdown",
   "metadata": {},
   "source": [
    "## Part 1.5: Frequency Matrix Generation\n",
    "\n",
    "SeqPandas now provides powerful functions to convert alignments into frequency matrices, which are the foundation for sequence logos and other analyses."
   ]
  },
  {
   "cell_type": "markdown",
   "metadata": {},
   "source": [
    "## Part 2: Creating Sequence Logos\n",
    "\n",
    "Sequence logos are graphical representations of sequence conservation, where the height of each letter represents its frequency at that position."
   ]
  },
  {
   "cell_type": "code",
   "execution_count": 9,
   "metadata": {},
   "outputs": [],
   "source": [
    "## Part 2: Creating Sequence Logos\n",
    "\n",
    "# Sequence logos are graphical representations of sequence conservation, where the height of each letter represents its frequency at that position. The logo module now uses the frequency matrix functions from the alignment module internally, making it more modular and reusable."
   ]
  },
  {
   "cell_type": "markdown",
   "metadata": {},
   "source": [
    "### Logo-Ready Format\n",
    "\n",
    "The `sequences_to_logo_format` function prepares data exactly as needed by logomaker, including identifying variant positions."
   ]
  },
  {
   "cell_type": "code",
   "execution_count": 10,
   "metadata": {},
   "outputs": [
    {
     "name": "stdout",
     "output_type": "stream",
     "text": [
      "Alignment Frequencies with Position Labels\n",
      "========================================\n",
      "DataFrame shape: (36, 6)\n",
      "Number of positions: 36\n",
      "\n",
      "Frequency matrix with position labels (first 10 positions):\n",
      "       -    A    C    G    T    .\n",
      "T1   0.8  0.0  0.0  0.0  0.2  0.0\n",
      "T2   0.8  0.0  0.0  0.0  0.2  0.0\n",
      "A3   0.4  0.6  0.0  0.0  0.0  0.0\n",
      "G4   0.4  0.0  0.0  0.6  0.0  0.0\n",
      "A5   0.4  0.4  0.2  0.0  0.0  0.0\n",
      "T6   0.4  0.0  0.0  0.0  0.6  0.0\n",
      "A7   0.4  0.6  0.0  0.0  0.0  0.0\n",
      "A8   0.4  0.6  0.0  0.0  0.0  0.0\n",
      "A9   0.6  0.2  0.0  0.2  0.0  0.0\n",
      "G10  0.4  0.2  0.0  0.4  0.0  0.0\n",
      "\n",
      "Most variable positions (lowest max frequency):\n",
      "  G11: max frequency = 0.40\n",
      "  A5: max frequency = 0.40\n",
      "  G10: max frequency = 0.40\n",
      "  A12: max frequency = 0.40\n",
      "  T13: max frequency = 0.40\n"
     ]
    }
   ],
   "source": [
    "# Get frequency matrix directly from SAM file\n",
    "freq_df, position_labels = get_alignment_frequencies(\n",
    "    alignment_sam, max_reads=10, normalize=True  # Get frequencies instead of counts\n",
    ")\n",
    "\n",
    "print(\"Alignment Frequencies with Position Labels\")\n",
    "print(\"=\" * 40)\n",
    "print(f\"DataFrame shape: {freq_df.shape}\")\n",
    "print(f\"Number of positions: {len(position_labels)}\")\n",
    "\n",
    "# Show the labeled frequency matrix\n",
    "print(\"\\nFrequency matrix with position labels (first 10 positions):\")\n",
    "print(freq_df.head(10))\n",
    "\n",
    "# Find the most variable positions\n",
    "print(\"\\nMost variable positions (lowest max frequency):\")\n",
    "max_freqs = freq_df.max(axis=1).sort_values()\n",
    "for pos, max_freq in list(max_freqs.head(5).items()):\n",
    "    print(f\"  {pos}: max frequency = {max_freq:.2f}\")"
   ]
  },
  {
   "cell_type": "markdown",
   "metadata": {},
   "source": [
    "### Complete Alignment-to-Frequency Pipeline\n",
    "\n",
    "The `get_alignment_frequencies` function combines reading a SAM/BAM file and generating a labeled frequency matrix in one step."
   ]
  },
  {
   "cell_type": "code",
   "execution_count": 11,
   "metadata": {},
   "outputs": [
    {
     "name": "stdout",
     "output_type": "stream",
     "text": [
      "Logo Generation Process:\n",
      "1. plot_logo_with_indels() receives alignment\n",
      "2. Internally calls sequences_to_logo_format()\n",
      "3. sequences_to_logo_format() calls:\n",
      "   - alignment_to_frequency_matrix()\n",
      "   - generate_position_labels()\n",
      "4. Returns frequency DataFrame ready for logomaker\n",
      "\n",
      "This modular approach allows you to:\n",
      "- Use frequency matrices without creating logos\n",
      "- Generate position labels for other analyses\n",
      "- Create custom visualizations from the same data\n"
     ]
    }
   ],
   "source": [
    "# Demonstrate that logo.py now uses alignment module functions\n",
    "print(\"Logo Generation Process:\")\n",
    "print(\"1. plot_logo_with_indels() receives alignment\")\n",
    "print(\"2. Internally calls sequences_to_logo_format()\")\n",
    "print(\"3. sequences_to_logo_format() calls:\")\n",
    "print(\"   - alignment_to_frequency_matrix()\")\n",
    "print(\"   - generate_position_labels()\")\n",
    "print(\"4. Returns frequency DataFrame ready for logomaker\")\n",
    "print(\"\\nThis modular approach allows you to:\")\n",
    "print(\"- Use frequency matrices without creating logos\")\n",
    "print(\"- Generate position labels for other analyses\")\n",
    "print(\"- Create custom visualizations from the same data\")"
   ]
  },
  {
   "cell_type": "code",
   "execution_count": 12,
   "metadata": {},
   "outputs": [
    {
     "name": "stdout",
     "output_type": "stream",
     "text": [
      "Position Labels\n",
      "========================================\n",
      "Total positions: 36\n",
      "\n",
      "First 20 labels:\n",
      "  Position 0: T1\n",
      "  Position 1: T2\n",
      "  Position 2: A3\n",
      "  Position 3: G4\n",
      "  Position 4: A5\n",
      "  Position 5: T6\n",
      "  Position 6: A7\n",
      "  Position 7: A8\n",
      "  Position 8: A9\n",
      "  Position 9: G10\n",
      "  Position 10: G11\n",
      "  Position 11: A12\n",
      "  Position 12: T13\n",
      "  Position 13: A14_A\n",
      "  Position 14: -14_B\n",
      "  Position 15: C15\n",
      "  Position 16: T16\n",
      "  Position 17: G17_A\n",
      "  Position 18: -17_B\n",
      "  Position 19: -17_C\n",
      "\n",
      "\n",
      "Filtered Position Labels (positions 10-15):\n",
      "  Index 9: G10\n",
      "  Index 10: G11\n",
      "  Index 11: A12\n",
      "  Index 12: T13\n",
      "  Index 13: A14_A\n",
      "  Index 15: C15\n"
     ]
    }
   ],
   "source": [
    "# Get aligned sequences from our SAM file\n",
    "if len(aligned_df) > 0:\n",
    "    sequences = aligned_df[\"aligned_sequence\"].tolist()\n",
    "    reference_seq = sequences[0]  # First sequence as reference\n",
    "\n",
    "    # Generate all position labels\n",
    "    labels, indices = generate_position_labels(reference_seq)\n",
    "\n",
    "    print(\"Position Labels\")\n",
    "    print(\"=\" * 40)\n",
    "    print(f\"Total positions: {len(labels)}\")\n",
    "    print(f\"\\nFirst 20 labels:\")\n",
    "    for i, label in enumerate(labels[:20]):\n",
    "        print(f\"  Position {i}: {label}\")\n",
    "\n",
    "    # Generate labels for specific positions only\n",
    "    print(\"\\n\\nFiltered Position Labels (positions 10-15):\")\n",
    "    filtered_labels, filtered_indices = generate_position_labels(reference_seq, positions=[10, 11, 12, 13, 14, 15])\n",
    "    for label, idx in zip(filtered_labels, filtered_indices):\n",
    "        print(f\"  Index {idx}: {label}\")"
   ]
  },
  {
   "cell_type": "code",
   "execution_count": 13,
   "metadata": {},
   "outputs": [
    {
     "name": "stdout",
     "output_type": "stream",
     "text": [
      "Frequency Matrix from SAM Alignments\n",
      "========================================\n",
      "Shape: (36, 6)\n",
      "Characters: ['-', 'A', 'C', 'G', 'T', '.']\n",
      "\n",
      "First 10 positions:\n",
      "     -    A    C    G    T    .\n",
      "0  0.8  0.0  0.0  0.0  0.2  0.0\n",
      "1  0.8  0.0  0.0  0.0  0.2  0.0\n",
      "2  0.4  0.6  0.0  0.0  0.0  0.0\n",
      "3  0.4  0.0  0.0  0.6  0.0  0.0\n",
      "4  0.4  0.4  0.2  0.0  0.0  0.0\n",
      "5  0.4  0.0  0.0  0.0  0.6  0.0\n",
      "6  0.4  0.6  0.0  0.0  0.0  0.0\n",
      "7  0.4  0.6  0.0  0.0  0.0  0.0\n",
      "8  0.6  0.2  0.0  0.2  0.0  0.0\n",
      "9  0.4  0.2  0.0  0.4  0.0  0.0\n",
      "\n",
      "Positions with multiple characters (entropy > 0):\n",
      "Position 0: {'-': 0.8, 'T': 0.2}\n",
      "Position 1: {'-': 0.8, 'T': 0.2}\n",
      "Position 2: {'-': 0.4, 'A': 0.6}\n",
      "Position 3: {'-': 0.4, 'G': 0.6}\n",
      "Position 4: {'-': 0.4, 'A': 0.4, 'C': 0.2}\n",
      "Position 5: {'-': 0.4, 'T': 0.6}\n",
      "Position 6: {'-': 0.4, 'A': 0.6}\n",
      "Position 7: {'-': 0.4, 'A': 0.6}\n",
      "Position 8: {'-': 0.6, 'A': 0.2, 'G': 0.2}\n",
      "Position 9: {'-': 0.4, 'A': 0.2, 'G': 0.4}\n",
      "Position 10: {'-': 0.4, 'A': 0.2, 'G': 0.2, 'T': 0.2}\n",
      "Position 11: {'-': 0.4, 'A': 0.4, 'T': 0.2}\n",
      "Position 12: {'-': 0.4, 'A': 0.2, 'G': 0.2, 'T': 0.2}\n",
      "Position 13: {'-': 0.6, 'A': 0.2, 'C': 0.2}\n",
      "Position 14: {'-': 0.8, 'T': 0.2}\n",
      "Position 15: {'-': 0.8, 'C': 0.2}\n",
      "Position 16: {'-': 0.8, 'T': 0.2}\n",
      "Position 17: {'-': 0.8, 'G': 0.2}\n",
      "Position 22: {'-': 0.8, 'T': 0.2}\n",
      "Position 23: {'-': 0.8, 'A': 0.2}\n",
      "Position 24: {'-': 0.8, 'G': 0.2}\n",
      "Position 25: {'-': 0.8, 'G': 0.2}\n",
      "Position 26: {'-': 0.8, 'C': 0.2}\n",
      "Position 29: {'-': 0.8, 'T': 0.2}\n",
      "Position 30: {'-': 0.8, 'C': 0.2}\n",
      "Position 31: {'-': 0.8, 'A': 0.2}\n",
      "Position 32: {'-': 0.8, 'G': 0.2}\n",
      "Position 33: {'-': 0.8, 'C': 0.2}\n"
     ]
    }
   ],
   "source": [
    "# Get aligned sequences from our SAM file\n",
    "if len(aligned_df) > 0:\n",
    "    sequences = aligned_df[\"aligned_sequence\"].tolist()\n",
    "\n",
    "    # Create frequency matrix\n",
    "    freq_matrix = alignment_to_frequency_matrix(sequences)\n",
    "\n",
    "    print(\"Frequency Matrix from SAM Alignments\")\n",
    "    print(\"=\" * 40)\n",
    "    print(f\"Shape: {freq_matrix.shape}\")\n",
    "    print(f\"Characters: {list(freq_matrix.columns)}\")\n",
    "    print(\"\\nFirst 10 positions:\")\n",
    "    print(freq_matrix.head(10))\n",
    "\n",
    "    # Show positions with high variation\n",
    "    print(\"\\nPositions with multiple characters (entropy > 0):\")\n",
    "    for idx, row in freq_matrix.iterrows():\n",
    "        if (row > 0).sum() > 1:  # More than one character present\n",
    "            print(f\"Position {idx}: {dict(row[row > 0])}\")"
   ]
  },
  {
   "cell_type": "markdown",
   "metadata": {},
   "source": [
    "## Part 1.5: Frequency Matrix Generation\n",
    "\n",
    "SeqPandas now provides powerful functions to convert alignments into frequency matrices, which are the foundation for sequence logos and other analyses."
   ]
  },
  {
   "cell_type": "markdown",
   "metadata": {},
   "source": [
    "### Preparing Alignment for Logo Generation\n",
    "\n",
    "First, let's create a simple multiple sequence alignment to demonstrate logo generation."
   ]
  },
  {
   "cell_type": "code",
   "execution_count": 14,
   "metadata": {},
   "outputs": [
    {
     "name": "stdout",
     "output_type": "stream",
     "text": [
      "Alignment length: 21 positions\n",
      "Number of sequences: 10\n",
      "\n",
      "First 3 sequences:\n",
      "ATGGATTTAT-CTGCTCTTCG\n",
      "ATGGATTTAT-CTGCTCTTCG\n",
      "ATGGATTTAT-CTGCTCTTCG\n"
     ]
    }
   ],
   "source": [
    "# Create example aligned sequences for logo demonstration\n",
    "# These could come from your actual alignment data\n",
    "example_alignment = [\n",
    "    \"ATGGATTTAT-CTGCTCTTCG\",\n",
    "    \"ATGGATTTAT-CTGCTCTTCG\",\n",
    "    \"ATGGATTTAT-CTGCTCTTCG\",\n",
    "    \"ATGGATTTGT-CTGCTCTTCG\",\n",
    "    \"ATGGATTTAT-CTGCTCTTCG\",\n",
    "    \"ATGGCTTTAT-CTGCTCTTCG\",\n",
    "    \"ATGGATTTAT-CTGCTCTTCG\",\n",
    "    \"ATGGATTTATACTGCTCTTCG\",  # Has insertion\n",
    "    \"ATGGATTTAT-CTGCTCTTCG\",\n",
    "    \"ATGGATTTAT-CTGCTCTTCG\",\n",
    "]\n",
    "\n",
    "print(f\"Alignment length: {len(example_alignment[0])} positions\")\n",
    "print(f\"Number of sequences: {len(example_alignment)}\")\n",
    "print(\"\\nFirst 3 sequences:\")\n",
    "for seq in example_alignment[:3]:\n",
    "    print(seq)"
   ]
  },
  {
   "cell_type": "markdown",
   "metadata": {},
   "source": [
    "### Creating a Basic Sequence Logo"
   ]
  },
  {
   "cell_type": "code",
   "execution_count": 15,
   "metadata": {},
   "outputs": [
    {
     "name": "stdout",
     "output_type": "stream",
     "text": [
      "Logo saved to: example_logo.png\n",
      "\n",
      "Frequency matrix shape: (21, 6)\n",
      "\n",
      "First few positions:\n"
     ]
    },
    {
     "data": {
      "text/html": [
       "<div>\n",
       "<style scoped>\n",
       "    .dataframe tbody tr th:only-of-type {\n",
       "        vertical-align: middle;\n",
       "    }\n",
       "\n",
       "    .dataframe tbody tr th {\n",
       "        vertical-align: top;\n",
       "    }\n",
       "\n",
       "    .dataframe thead th {\n",
       "        text-align: right;\n",
       "    }\n",
       "</style>\n",
       "<table border=\"1\" class=\"dataframe\">\n",
       "  <thead>\n",
       "    <tr style=\"text-align: right;\">\n",
       "      <th></th>\n",
       "      <th>-</th>\n",
       "      <th>A</th>\n",
       "      <th>C</th>\n",
       "      <th>G</th>\n",
       "      <th>T</th>\n",
       "      <th>.</th>\n",
       "    </tr>\n",
       "  </thead>\n",
       "  <tbody>\n",
       "    <tr>\n",
       "      <th>0</th>\n",
       "      <td>0.0</td>\n",
       "      <td>1.0</td>\n",
       "      <td>0.0</td>\n",
       "      <td>0.0</td>\n",
       "      <td>0.0</td>\n",
       "      <td>0.0</td>\n",
       "    </tr>\n",
       "    <tr>\n",
       "      <th>1</th>\n",
       "      <td>0.0</td>\n",
       "      <td>0.0</td>\n",
       "      <td>0.0</td>\n",
       "      <td>0.0</td>\n",
       "      <td>1.0</td>\n",
       "      <td>0.0</td>\n",
       "    </tr>\n",
       "    <tr>\n",
       "      <th>2</th>\n",
       "      <td>0.0</td>\n",
       "      <td>0.0</td>\n",
       "      <td>0.0</td>\n",
       "      <td>1.0</td>\n",
       "      <td>0.0</td>\n",
       "      <td>0.0</td>\n",
       "    </tr>\n",
       "    <tr>\n",
       "      <th>3</th>\n",
       "      <td>0.0</td>\n",
       "      <td>0.0</td>\n",
       "      <td>0.0</td>\n",
       "      <td>1.0</td>\n",
       "      <td>0.0</td>\n",
       "      <td>0.0</td>\n",
       "    </tr>\n",
       "    <tr>\n",
       "      <th>4</th>\n",
       "      <td>0.0</td>\n",
       "      <td>0.9</td>\n",
       "      <td>0.1</td>\n",
       "      <td>0.0</td>\n",
       "      <td>0.0</td>\n",
       "      <td>0.0</td>\n",
       "    </tr>\n",
       "  </tbody>\n",
       "</table>\n",
       "</div>"
      ],
      "text/plain": [
       "     -    A    C    G    T    .\n",
       "0  0.0  1.0  0.0  0.0  0.0  0.0\n",
       "1  0.0  0.0  0.0  0.0  1.0  0.0\n",
       "2  0.0  0.0  0.0  1.0  0.0  0.0\n",
       "3  0.0  0.0  0.0  1.0  0.0  0.0\n",
       "4  0.0  0.9  0.1  0.0  0.0  0.0"
      ]
     },
     "execution_count": 15,
     "metadata": {},
     "output_type": "execute_result"
    }
   ],
   "source": [
    "# Generate sequence logo\n",
    "output_logo = \"example_logo.png\"\n",
    "\n",
    "freq_df = plot_logo_with_indels(\n",
    "    alignment=example_alignment,\n",
    "    output_file=output_logo,\n",
    "    title=\"Example Sequence Logo\",\n",
    "    color_scheme=\"NajafabadiEtAl2017\",  # Default color scheme\n",
    ")\n",
    "\n",
    "print(f\"Logo saved to: {output_logo}\")\n",
    "print(\"\\nFrequency matrix shape:\", freq_df.shape)\n",
    "print(\"\\nFirst few positions:\")\n",
    "freq_df.head()"
   ]
  },
  {
   "cell_type": "markdown",
   "metadata": {},
   "source": [
    "### Highlighting Specific Positions\n",
    "\n",
    "You can highlight specific positions in the logo to draw attention to important sites."
   ]
  },
  {
   "cell_type": "code",
   "execution_count": 16,
   "metadata": {},
   "outputs": [
    {
     "name": "stdout",
     "output_type": "stream",
     "text": [
      "Highlighted logo saved to: example_logo_highlighted.png\n"
     ]
    }
   ],
   "source": [
    "# Create logo with highlighted positions\n",
    "highlighted_logo = \"example_logo_highlighted.png\"\n",
    "\n",
    "freq_df_highlight = plot_logo_with_indels(\n",
    "    alignment=example_alignment,\n",
    "    output_file=highlighted_logo,\n",
    "    title=\"Logo with Highlighted Positions\",\n",
    "    positions=[5, 6, 7, 8, 9],  # Focus on positions 5-9\n",
    "    highlight_pos=[1, 2],  # Highlight specific positions\n",
    "    highlight_color=\"gold\",\n",
    "    highlight_alpha=0.5,\n",
    ")\n",
    "\n",
    "print(f\"Highlighted logo saved to: {highlighted_logo}\")"
   ]
  },
  {
   "cell_type": "markdown",
   "metadata": {},
   "source": [
    "### Using Different Color Schemes\n",
    "\n",
    "The logo module supports various color schemes for different visualization needs."
   ]
  },
  {
   "cell_type": "markdown",
   "metadata": {},
   "source": [
    "## Summary\n",
    "\n",
    "SeqPandas alignment and logo modules provide a comprehensive toolkit for sequence analysis:\n",
    "\n",
    "**Alignment Module:**\n",
    "- Read SAM/BAM files with gap-aware alignment\n",
    "- Visualize alignments with explicit gap representation\n",
    "- Extract aligned sequences for downstream analysis\n",
    "- Handle insertions and deletions properly\n",
    "- **NEW: Generate frequency matrices from alignments**\n",
    "- **NEW: Create position labels with gap handling**\n",
    "- **NEW: Direct conversion to logo-ready format**\n",
    "\n",
    "**Logo Module:**\n",
    "- Create publication-quality sequence logos\n",
    "- Support for DNA, RNA, and protein sequences\n",
    "- Handle insertions and deletions in alignments\n",
    "- Multiple color schemes for different visualization needs\n",
    "- Export frequency matrices for further analysis\n",
    "- **NEW: Uses alignment module functions internally for modularity**\n",
    "\n",
    "**Frequency Matrix Functions:**\n",
    "- `alignment_to_frequency_matrix()` - Convert sequences to frequency matrix\n",
    "- `generate_position_labels()` - Create meaningful position labels\n",
    "- `get_alignment_frequencies()` - Complete pipeline from SAM to frequencies\n",
    "- `sequences_to_logo_format()` - Prepare data for logomaker\n",
    "\n",
    "**Integration:**\n",
    "- Seamlessly convert SAM/BAM alignments to sequence logos\n",
    "- Identify conserved and variable regions\n",
    "- Create visual summaries of alignment data\n",
    "- Perform custom analyses on frequency matrices\n",
    "- Calculate conservation metrics like Shannon entropy\n",
    "- Generate consensus sequences"
   ]
  },
  {
   "cell_type": "markdown",
   "metadata": {},
   "source": [
    "### Custom Analysis with Frequency Matrices\n",
    "\n",
    "The frequency matrices can be used for various bioinformatics analyses beyond visualization."
   ]
  },
  {
   "cell_type": "code",
   "execution_count": 17,
   "metadata": {},
   "outputs": [
    {
     "name": "stdout",
     "output_type": "stream",
     "text": [
      "Shannon Entropy Analysis\n",
      "========================================\n",
      "Mean entropy: 0.765\n",
      "Max entropy: 1.922\n",
      "Min entropy: -0.000\n",
      "\n",
      "Highly conserved positions (entropy < 0.5):\n",
      "  Positions: [18, 19, 20, 21, 27, 28, 34, 35]...\n",
      "\n",
      "Highly variable positions (entropy > 1.0):\n",
      "  Positions: [4, 8, 9, 10, 11, 12, 13]\n"
     ]
    }
   ],
   "source": [
    "# Example: Calculate Shannon entropy for each position\n",
    "import numpy as np\n",
    "\n",
    "\n",
    "def calculate_shannon_entropy(freq_matrix):\n",
    "    \"\"\"Calculate Shannon entropy for each position in the alignment.\"\"\"\n",
    "    entropies = []\n",
    "    for idx, row in freq_matrix.iterrows():\n",
    "        # Remove zeros and calculate entropy\n",
    "        probs = row[row > 0]\n",
    "        if len(probs) > 0:\n",
    "            entropy = -sum(probs * np.log2(probs))\n",
    "        else:\n",
    "            entropy = 0\n",
    "        entropies.append(entropy)\n",
    "    return entropies\n",
    "\n",
    "\n",
    "# Calculate entropy for our alignment\n",
    "if \"freq_matrix\" in locals() and not freq_matrix.empty:\n",
    "    entropies = calculate_shannon_entropy(freq_matrix)\n",
    "\n",
    "    print(\"Shannon Entropy Analysis\")\n",
    "    print(\"=\" * 40)\n",
    "    print(f\"Mean entropy: {np.mean(entropies):.3f}\")\n",
    "    print(f\"Max entropy: {np.max(entropies):.3f}\")\n",
    "    print(f\"Min entropy: {np.min(entropies):.3f}\")\n",
    "\n",
    "    # Find highly conserved positions (low entropy)\n",
    "    conserved_threshold = 0.5\n",
    "    conserved_positions = [i for i, e in enumerate(entropies) if e < conserved_threshold]\n",
    "    print(f\"\\nHighly conserved positions (entropy < {conserved_threshold}):\")\n",
    "    print(f\"  Positions: {conserved_positions[:10]}...\")\n",
    "\n",
    "    # Find highly variable positions (high entropy)\n",
    "    variable_threshold = 1.0\n",
    "    variable_positions = [i for i, e in enumerate(entropies) if e > variable_threshold]\n",
    "    print(f\"\\nHighly variable positions (entropy > {variable_threshold}):\")\n",
    "    print(f\"  Positions: {variable_positions}\")"
   ]
  },
  {
   "cell_type": "markdown",
   "metadata": {},
   "source": [
    "## Part 5: Advanced Matrix Analysis\n",
    "\n",
    "With the new frequency matrix functions, you can perform advanced analyses beyond just creating logos."
   ]
  },
  {
   "cell_type": "code",
   "execution_count": 18,
   "metadata": {},
   "outputs": [
    {
     "name": "stdout",
     "output_type": "stream",
     "text": [
      "Available color schemes:\n",
      "  - NajafabadiEtAl2017\n",
      "  - grays\n",
      "  - PGDM1400\n",
      "  - PGT121\n",
      "  - VRC01\n",
      "\n",
      "Gray logo saved to: example_logo_gray.png\n"
     ]
    }
   ],
   "source": [
    "# Available color schemes\n",
    "color_schemes = [\"NajafabadiEtAl2017\", \"grays\", \"PGDM1400\", \"PGT121\", \"VRC01\"]\n",
    "\n",
    "print(\"Available color schemes:\")\n",
    "for scheme in color_schemes:\n",
    "    print(f\"  - {scheme}\")\n",
    "\n",
    "# Create logo with gray color scheme\n",
    "gray_logo = \"example_logo_gray.png\"\n",
    "\n",
    "freq_df_gray = plot_logo_with_indels(\n",
    "    alignment=example_alignment, output_file=gray_logo, title=\"Logo with Gray Color Scheme\", color_scheme=\"grays\"\n",
    ")\n",
    "\n",
    "print(f\"\\nGray logo saved to: {gray_logo}\")"
   ]
  },
  {
   "cell_type": "markdown",
   "metadata": {},
   "source": [
    "## Part 3: Integration - From SAM to Logo\n",
    "\n",
    "Now let's combine both modules to create a logo directly from SAM alignment data."
   ]
  },
  {
   "cell_type": "code",
   "execution_count": 19,
   "metadata": {},
   "outputs": [
    {
     "name": "stdout",
     "output_type": "stream",
     "text": [
      "Created logo from 5 SAM alignments\n",
      "Logo saved to: sam_alignment_logo.png\n",
      "\n",
      "Alignment statistics:\n",
      "  Sequence length: 36\n",
      "  Number of sequences: 5\n"
     ]
    }
   ],
   "source": [
    "# Extract aligned sequences from SAM data\n",
    "if len(aligned_df) > 0 and \"aligned_sequence\" in aligned_df.columns:\n",
    "    # Get aligned sequences\n",
    "    sam_sequences = aligned_df[\"aligned_sequence\"].tolist()\n",
    "\n",
    "    # Take first N sequences that have actual alignment data\n",
    "    sam_sequences = [seq for seq in sam_sequences if seq and len(seq) > 0][:10]\n",
    "\n",
    "    if sam_sequences:\n",
    "        # Ensure all sequences have the same length\n",
    "        max_len = max(len(seq) for seq in sam_sequences)\n",
    "        sam_sequences = [seq.ljust(max_len, \"-\") for seq in sam_sequences]\n",
    "\n",
    "        # Create logo from SAM alignments\n",
    "        sam_logo = \"sam_alignment_logo.png\"\n",
    "\n",
    "        freq_df_sam = plot_logo_with_indels(\n",
    "            alignment=sam_sequences, output_file=sam_logo, title=\"Logo from SAM Alignments\"\n",
    "        )\n",
    "\n",
    "        print(f\"Created logo from {len(sam_sequences)} SAM alignments\")\n",
    "        print(f\"Logo saved to: {sam_logo}\")\n",
    "        print(f\"\\nAlignment statistics:\")\n",
    "        print(f\"  Sequence length: {max_len}\")\n",
    "        print(f\"  Number of sequences: {len(sam_sequences)}\")\n",
    "    else:\n",
    "        print(\"No valid aligned sequences found in SAM data\")\n",
    "else:\n",
    "    print(\"No alignment data available for logo generation\")"
   ]
  },
  {
   "cell_type": "markdown",
   "metadata": {},
   "source": [
    "## Part 4: Advanced Features"
   ]
  },
  {
   "cell_type": "markdown",
   "metadata": {},
   "source": [
    "### Working with Protein Sequences\n",
    "\n",
    "The logo module is particularly useful for protein sequence alignments, supporting all 20 amino acids."
   ]
  },
  {
   "cell_type": "code",
   "execution_count": 20,
   "metadata": {},
   "outputs": [
    {
     "name": "stdout",
     "output_type": "stream",
     "text": [
      "Protein logo saved to: protein_logo.png\n",
      "\n",
      "Amino acid frequencies at first 5 positions:\n"
     ]
    },
    {
     "data": {
      "text/html": [
       "<div>\n",
       "<style scoped>\n",
       "    .dataframe tbody tr th:only-of-type {\n",
       "        vertical-align: middle;\n",
       "    }\n",
       "\n",
       "    .dataframe tbody tr th {\n",
       "        vertical-align: top;\n",
       "    }\n",
       "\n",
       "    .dataframe thead th {\n",
       "        text-align: right;\n",
       "    }\n",
       "</style>\n",
       "<table border=\"1\" class=\"dataframe\">\n",
       "  <thead>\n",
       "    <tr style=\"text-align: right;\">\n",
       "      <th></th>\n",
       "      <th>-</th>\n",
       "      <th>A</th>\n",
       "      <th>F</th>\n",
       "      <th>I</th>\n",
       "      <th>K</th>\n",
       "      <th>L</th>\n",
       "      <th>M</th>\n",
       "      <th>S</th>\n",
       "      <th>T</th>\n",
       "      <th>V</th>\n",
       "      <th>W</th>\n",
       "      <th>Y</th>\n",
       "      <th>.</th>\n",
       "    </tr>\n",
       "  </thead>\n",
       "  <tbody>\n",
       "    <tr>\n",
       "      <th>0</th>\n",
       "      <td>0.0</td>\n",
       "      <td>0.000</td>\n",
       "      <td>0.0</td>\n",
       "      <td>0.0</td>\n",
       "      <td>0.0</td>\n",
       "      <td>0.0</td>\n",
       "      <td>1.0</td>\n",
       "      <td>0.0</td>\n",
       "      <td>0.000</td>\n",
       "      <td>0.0</td>\n",
       "      <td>0.0</td>\n",
       "      <td>0.0</td>\n",
       "      <td>0.0</td>\n",
       "    </tr>\n",
       "    <tr>\n",
       "      <th>1</th>\n",
       "      <td>0.0</td>\n",
       "      <td>0.000</td>\n",
       "      <td>0.0</td>\n",
       "      <td>0.0</td>\n",
       "      <td>1.0</td>\n",
       "      <td>0.0</td>\n",
       "      <td>0.0</td>\n",
       "      <td>0.0</td>\n",
       "      <td>0.000</td>\n",
       "      <td>0.0</td>\n",
       "      <td>0.0</td>\n",
       "      <td>0.0</td>\n",
       "      <td>0.0</td>\n",
       "    </tr>\n",
       "    <tr>\n",
       "      <th>2</th>\n",
       "      <td>0.0</td>\n",
       "      <td>0.000</td>\n",
       "      <td>0.0</td>\n",
       "      <td>0.0</td>\n",
       "      <td>0.0</td>\n",
       "      <td>0.0</td>\n",
       "      <td>0.0</td>\n",
       "      <td>0.0</td>\n",
       "      <td>0.000</td>\n",
       "      <td>0.0</td>\n",
       "      <td>1.0</td>\n",
       "      <td>0.0</td>\n",
       "      <td>0.0</td>\n",
       "    </tr>\n",
       "    <tr>\n",
       "      <th>3</th>\n",
       "      <td>0.0</td>\n",
       "      <td>0.000</td>\n",
       "      <td>0.0</td>\n",
       "      <td>0.0</td>\n",
       "      <td>0.0</td>\n",
       "      <td>0.0</td>\n",
       "      <td>0.0</td>\n",
       "      <td>0.0</td>\n",
       "      <td>0.000</td>\n",
       "      <td>1.0</td>\n",
       "      <td>0.0</td>\n",
       "      <td>0.0</td>\n",
       "      <td>0.0</td>\n",
       "    </tr>\n",
       "    <tr>\n",
       "      <th>4</th>\n",
       "      <td>0.0</td>\n",
       "      <td>0.125</td>\n",
       "      <td>0.0</td>\n",
       "      <td>0.0</td>\n",
       "      <td>0.0</td>\n",
       "      <td>0.0</td>\n",
       "      <td>0.0</td>\n",
       "      <td>0.0</td>\n",
       "      <td>0.875</td>\n",
       "      <td>0.0</td>\n",
       "      <td>0.0</td>\n",
       "      <td>0.0</td>\n",
       "      <td>0.0</td>\n",
       "    </tr>\n",
       "  </tbody>\n",
       "</table>\n",
       "</div>"
      ],
      "text/plain": [
       "     -      A    F    I    K    L    M    S      T    V    W    Y    .\n",
       "0  0.0  0.000  0.0  0.0  0.0  0.0  1.0  0.0  0.000  0.0  0.0  0.0  0.0\n",
       "1  0.0  0.000  0.0  0.0  1.0  0.0  0.0  0.0  0.000  0.0  0.0  0.0  0.0\n",
       "2  0.0  0.000  0.0  0.0  0.0  0.0  0.0  0.0  0.000  0.0  1.0  0.0  0.0\n",
       "3  0.0  0.000  0.0  0.0  0.0  0.0  0.0  0.0  0.000  1.0  0.0  0.0  0.0\n",
       "4  0.0  0.125  0.0  0.0  0.0  0.0  0.0  0.0  0.875  0.0  0.0  0.0  0.0"
      ]
     },
     "execution_count": 20,
     "metadata": {},
     "output_type": "execute_result"
    }
   ],
   "source": [
    "# Example protein alignment\n",
    "protein_alignment = [\n",
    "    \"MKWVTFISLLFLFSSAYS\",\n",
    "    \"MKWVTFISLLFLFSSAYS\",\n",
    "    \"MKWVTFISLLFLFSSAYS\",\n",
    "    \"MKWVTFISLLFLFSSAYT\",\n",
    "    \"MKWVTFISLLFLFSSAYS\",\n",
    "    \"MKWVTFISLLFLFS-AYS\",  # With deletion\n",
    "    \"MKWVTFISLLFLFSSAYS\",\n",
    "    \"MKWVAFISLLFLFSSAYS\",\n",
    "]\n",
    "\n",
    "protein_logo = \"protein_logo.png\"\n",
    "\n",
    "freq_df_protein = plot_logo_with_indels(\n",
    "    alignment=protein_alignment, output_file=protein_logo, title=\"Protein Sequence Logo\"\n",
    ")\n",
    "\n",
    "print(f\"Protein logo saved to: {protein_logo}\")\n",
    "print(\"\\nAmino acid frequencies at first 5 positions:\")\n",
    "freq_df_protein.head()"
   ]
  },
  {
   "cell_type": "markdown",
   "metadata": {},
   "source": [
    "### Handling Insertions and Deletions\n",
    "\n",
    "The logo function handles indels gracefully, using alphabetical suffixes for positions with insertions."
   ]
  },
  {
   "cell_type": "code",
   "execution_count": 21,
   "metadata": {},
   "outputs": [
    {
     "name": "stdout",
     "output_type": "stream",
     "text": [
      "Indel logo saved to: indel_logo.png\n",
      "\n",
      "Note: Positions with gaps are labeled with suffixes (e.g., G4_A for insertion after G4)\n"
     ]
    }
   ],
   "source": [
    "# Alignment with complex indels\n",
    "indel_alignment = [\n",
    "    \"ATG-GATTTAT\",  # Deletion at position 4\n",
    "    \"ATGCGATTTAT\",  # Normal\n",
    "    \"ATG-GATTTAT\",  # Deletion\n",
    "    \"ATGCGATTTAT\",  # Normal\n",
    "    \"ATG--ATTTAT\",  # Double deletion\n",
    "    \"ATGCGATTTAT\",  # Normal\n",
    "]\n",
    "\n",
    "indel_logo = \"indel_logo.png\"\n",
    "\n",
    "freq_df_indel = plot_logo_with_indels(\n",
    "    alignment=indel_alignment, output_file=indel_logo, title=\"Logo with Insertions and Deletions\"\n",
    ")\n",
    "\n",
    "print(f\"Indel logo saved to: {indel_logo}\")\n",
    "print(\"\\nNote: Positions with gaps are labeled with suffixes (e.g., G4_A for insertion after G4)\")"
   ]
  },
  {
   "cell_type": "markdown",
   "metadata": {},
   "source": [
    "### Exporting Frequency Data\n",
    "\n",
    "The frequency matrix used to generate the logo is automatically saved as a CSV file for further analysis."
   ]
  },
  {
   "cell_type": "code",
   "execution_count": 22,
   "metadata": {},
   "outputs": [
    {
     "name": "stdout",
     "output_type": "stream",
     "text": [
      "Frequency data saved to: protein_logo.csv\n",
      "\n",
      "Frequency matrix (first 5 positions):\n",
      "    M1   K2   W3   V4     T5\n",
      "-  0.0  0.0  0.0  0.0  0.000\n",
      "A  0.0  0.0  0.0  0.0  0.125\n",
      "F  0.0  0.0  0.0  0.0  0.000\n",
      "I  0.0  0.0  0.0  0.0  0.000\n",
      "K  0.0  1.0  0.0  0.0  0.000\n",
      "L  0.0  0.0  0.0  0.0  0.000\n",
      "M  1.0  0.0  0.0  0.0  0.000\n",
      "S  0.0  0.0  0.0  0.0  0.000\n",
      "T  0.0  0.0  0.0  0.0  0.875\n",
      "V  0.0  0.0  0.0  1.0  0.000\n",
      "W  0.0  0.0  1.0  0.0  0.000\n",
      "Y  0.0  0.0  0.0  0.0  0.000\n",
      ".  0.0  0.0  0.0  0.0  0.000\n",
      "\n",
      "This data can be used for:\n",
      "  - Statistical analysis of conservation\n",
      "  - Identifying highly variable positions\n",
      "  - Creating custom visualizations\n",
      "  - Comparing different alignments\n"
     ]
    }
   ],
   "source": [
    "# The frequency data is saved alongside the logo\n",
    "csv_file = Path(protein_logo).with_suffix(\".csv\")\n",
    "\n",
    "if csv_file.exists():\n",
    "    freq_data = pd.read_csv(csv_file, index_col=0)\n",
    "    print(f\"Frequency data saved to: {csv_file}\")\n",
    "    print(\"\\nFrequency matrix (first 5 positions):\")\n",
    "    print(freq_data.iloc[:, :5])\n",
    "    print(\"\\nThis data can be used for:\")\n",
    "    print(\"  - Statistical analysis of conservation\")\n",
    "    print(\"  - Identifying highly variable positions\")\n",
    "    print(\"  - Creating custom visualizations\")\n",
    "    print(\"  - Comparing different alignments\")"
   ]
  },
  {
   "cell_type": "markdown",
   "metadata": {},
   "source": [
    "## Summary\n",
    "\n",
    "SeqPandas alignment and logo modules provide:\n",
    "\n",
    "**Alignment Module:**\n",
    "- Read SAM/BAM files with gap-aware alignment\n",
    "- Visualize alignments with explicit gap representation\n",
    "- Extract aligned sequences for downstream analysis\n",
    "- Handle insertions and deletions properly\n",
    "\n",
    "**Logo Module:**\n",
    "- Create publication-quality sequence logos\n",
    "- Support for DNA, RNA, and protein sequences\n",
    "- Handle insertions and deletions in alignments\n",
    "- Multiple color schemes for different visualization needs\n",
    "- Export frequency matrices for further analysis\n",
    "\n",
    "**Integration:**\n",
    "- Seamlessly convert SAM/BAM alignments to sequence logos\n",
    "- Identify conserved and variable regions\n",
    "- Create visual summaries of alignment data"
   ]
  },
  {
   "cell_type": "markdown",
   "metadata": {},
   "source": [
    "## Cleanup\n",
    "\n",
    "Remove temporary files created during the tutorial."
   ]
  },
  {
   "cell_type": "code",
   "execution_count": 24,
   "metadata": {},
   "outputs": [
    {
     "name": "stdout",
     "output_type": "stream",
     "text": [
      "Removed: example_logo.png\n",
      "Removed: example_logo.csv\n",
      "Removed: example_logo_highlighted.png\n",
      "Removed: example_logo_highlighted.csv\n",
      "Removed: example_logo_gray.png\n",
      "Removed: example_logo_gray.csv\n",
      "Removed: sam_alignment_logo.png\n",
      "Removed: sam_alignment_logo.csv\n",
      "Removed: protein_logo.png\n",
      "Removed: protein_logo.csv\n",
      "Removed: indel_logo.png\n",
      "Removed: indel_logo.csv\n",
      "\n",
      "Cleanup complete!\n"
     ]
    }
   ],
   "source": [
    "# Clean up generated files (optional)\n",
    "import os\n",
    "\n",
    "files_to_clean = [\n",
    "    \"example_logo.png\",\n",
    "    \"example_logo.csv\",\n",
    "    \"example_logo_highlighted.png\",\n",
    "    \"example_logo_highlighted.csv\",\n",
    "    \"example_logo_gray.png\",\n",
    "    \"example_logo_gray.csv\",\n",
    "    \"sam_alignment_logo.png\",\n",
    "    \"sam_alignment_logo.csv\",\n",
    "    \"protein_logo.png\",\n",
    "    \"protein_logo.csv\",\n",
    "    \"indel_logo.png\",\n",
    "    \"indel_logo.csv\",\n",
    "]\n",
    "\n",
    "for file in files_to_clean:\n",
    "    if os.path.exists(file):\n",
    "        os.remove(file)\n",
    "        print(f\"Removed: {file}\")\n",
    "\n",
    "print(\"\\nCleanup complete!\")"
   ]
  }
 ],
 "metadata": {
  "kernelspec": {
   "display_name": "seqpandas",
   "language": "python",
   "name": "python3"
  },
  "language_info": {
   "codemirror_mode": {
    "name": "ipython",
    "version": 3
   },
   "file_extension": ".py",
   "mimetype": "text/x-python",
   "name": "python",
   "nbconvert_exporter": "python",
   "pygments_lexer": "ipython3",
   "version": "3.13.5"
  }
 },
 "nbformat": 4,
 "nbformat_minor": 4
}
