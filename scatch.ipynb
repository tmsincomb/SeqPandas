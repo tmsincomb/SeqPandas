{
 "cells": [
  {
   "cell_type": "code",
   "execution_count": 3,
   "metadata": {},
   "outputs": [
    {
     "data": {
      "text/plain": [
       "IO(meta=None)"
      ]
     },
     "execution_count": 3,
     "metadata": {},
     "output_type": "execute_result"
    }
   ],
   "source": [
    "from dataclasses import dataclass\n",
    "\n",
    "from attr import field\n",
    "\n",
    "@dataclass\n",
    "class IO:\n",
    "    \"\"\" VCF I/O for VCF Version 4.3 found at src https://github.com/samtools/hts-specs/blob/master/VCFv4.3.pdf\n",
    "    \n",
    "    META\n",
    "        Specifics on how the VCF was generated.\n",
    "    HEADER\n",
    "        #CHROM  POS     ID      REF     ALT     QUAL    FILTER  INFO    FORMAT  Sample1 Sample2 Sample3\n",
    "    BODY\n",
    "        Variant call row following format \n",
    "    \"\"\"\n",
    "    meta: str = field(init=False)\n",
    "    \n",
    "IO()"
   ]
  }
 ],
 "metadata": {
  "kernelspec": {
   "display_name": "Python 3.10.6 ('iavi')",
   "language": "python",
   "name": "python3"
  },
  "language_info": {
   "codemirror_mode": {
    "name": "ipython",
    "version": 3
   },
   "file_extension": ".py",
   "mimetype": "text/x-python",
   "name": "python",
   "nbconvert_exporter": "python",
   "pygments_lexer": "ipython3",
   "version": "3.11.0"
  },
  "orig_nbformat": 4,
  "vscode": {
   "interpreter": {
    "hash": "707296052780e821d0b60a3e02d608b5db7f0394d5b402dfca1a9cf705b112b7"
   }
  }
 },
 "nbformat": 4,
 "nbformat_minor": 2
}
